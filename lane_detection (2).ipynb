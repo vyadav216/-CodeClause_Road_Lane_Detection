{
  "nbformat": 4,
  "nbformat_minor": 0,
  "metadata": {
    "colab": {
      "provenance": []
    },
    "kernelspec": {
      "name": "python3",
      "display_name": "Python 3"
    }
  },
  "cells": [
    {
      "cell_type": "code",
      "source": [
        "!git clone https://github.com/Dt-Pham/Advanced-Lane-Lines.git\n",
        "%cd Advanced-Lane-Lines/"
      ],
      "metadata": {
        "id": "-QdoQT98xXIh"
      },
      "execution_count": null,
      "outputs": []
    },
    {
      "cell_type": "code",
      "metadata": {
        "id": "twcSHvJyKY19",
        "outputId": "8498818f-6fd0-40c8-efee-45f3cbf40d8a",
        "colab": {
          "base_uri": "https://localhost:8080/"
        }
      },
      "source": [
        "import numpy as np\n",
        "import matplotlib.image as mpimg\n",
        "import cv2\n",
        "from docopt import docopt\n",
        "from IPython.display import HTML\n",
        "from IPython.core.display import Video\n",
        "from moviepy.editor import VideoFileClip\n",
        "from CameraCalibration import CameraCalibration\n",
        "from Thresholding import *\n",
        "from PerspectiveTransformation import *\n",
        "from LaneLines import *\n",
        "\n",
        "class FindLaneLines:\n",
        "    def __init__(self):\n",
        "        \"\"\" Init Application\"\"\"\n",
        "        self.calibration = CameraCalibration('camera_cal', 9, 6)\n",
        "        self.thresholding = Thresholding()\n",
        "        self.transform = PerspectiveTransformation()\n",
        "        self.lanelines = LaneLines()\n",
        "\n",
        "    def forward(self, img):\n",
        "        out_img = np.copy(img)\n",
        "        img = self.calibration.undistort(img)\n",
        "        img = self.transform.forward(img)\n",
        "        img = self.thresholding.forward(img)\n",
        "        img = self.lanelines.forward(img)\n",
        "        img = self.transform.backward(img)\n",
        "\n",
        "        out_img = cv2.addWeighted(out_img, 1, img, 0.6, 0)\n",
        "        out_img = self.lanelines.plot(out_img)\n",
        "        return out_img\n",
        "\n",
        "    def process_image(self, input_path, output_path):\n",
        "        img = mpimg.imread(input_path)\n",
        "        out_img = self.forward(img)\n",
        "        mpimg.imsave(output_path, out_img)\n",
        "\n",
        "    def process_video(self, input_path, output_path):\n",
        "        clip = VideoFileClip(input_path)\n",
        "        out_clip = clip.fl_image(self.forward)\n",
        "        out_clip.write_videofile(output_path, audio=False)\n",
        "\n",
        "def main():\n",
        "    findLaneLines = FindLaneLines()\n",
        "    findLaneLines.process_video(\"harder_challenge_video.mp4\",\"output.mp4\")\n",
        "\n",
        "if __name__ == \"__main__\":\n",
        "    main()"
      ],
      "execution_count": 9,
      "outputs": [
        {
          "output_type": "stream",
          "name": "stdout",
          "text": [
            "Moviepy - Building video output.mp4.\n",
            "Moviepy - Writing video output.mp4\n",
            "\n"
          ]
        },
        {
          "output_type": "stream",
          "name": "stderr",
          "text": []
        },
        {
          "output_type": "stream",
          "name": "stdout",
          "text": [
            "Moviepy - Done !\n",
            "Moviepy - video ready output.mp4\n"
          ]
        }
      ]
    }
  ]
}